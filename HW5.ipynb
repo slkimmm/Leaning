{
 "cells": [
  {
   "cell_type": "markdown",
   "metadata": {},
   "source": [
    "### calculating PageRank\n",
    "> dophins.csv"
   ]
  },
  {
   "cell_type": "code",
   "execution_count": 8,
   "metadata": {},
   "outputs": [
    {
     "name": "stdout",
     "output_type": "stream",
     "text": [
      "('Grin', 0.03214449281400237)\n",
      "('Jet', 0.031728140448947305)\n",
      "('Trigger', 0.03129935693146997)\n",
      "('Web', 0.03009537142656223)\n",
      "('SN4', 0.029875338633952777)\n",
      "('Topless', 0.029514203616402147)\n",
      "('Scabs', 0.028423069759827474)\n",
      "('Patchback', 0.026458550217896788)\n",
      "('Gallatin', 0.02615687601825938)\n",
      "('Beescratch', 0.02465071687516167)\n",
      "('Kringel', 0.024640918875083653)\n",
      "('SN63', 0.023939244424595996)\n",
      "('Feather', 0.023458479371358084)\n",
      "('SN9', 0.021966366021848302)\n",
      "('Stripes', 0.021691125131190595)\n",
      "('Upbang', 0.02165087709499204)\n",
      "('SN100', 0.020613389456365296)\n",
      "('DN21', 0.02005362932316933)\n",
      "('Haecksel', 0.019883081346055088)\n",
      "('Jonah', 0.01939555068426592)\n",
      "('TR99', 0.019231944710627412)\n",
      "('SN96', 0.017618650360118435)\n",
      "('TR77', 0.017339518043105004)\n",
      "('Number1', 0.017130091122320255)\n",
      "('Double', 0.017098300861378687)\n",
      "('Beak', 0.01696539174085728)\n",
      "('MN105', 0.01693899010160467)\n",
      "('MN83', 0.01690575601357532)\n",
      "('Hook', 0.016626816428251433)\n",
      "('SN90', 0.01613756693580135)\n",
      "('Shmuddel', 0.015919935898163068)\n",
      "('DN63', 0.015643030489723365)\n",
      "('PL', 0.01530209527216896)\n",
      "('Fish', 0.015108397553499159)\n",
      "('Oscar', 0.014845738613271587)\n",
      "('Zap', 0.014767919993641871)\n",
      "('DN16', 0.014428047649501053)\n",
      "('Bumper', 0.013338079755522054)\n",
      "('Ripplefluke', 0.013308677281007878)\n",
      "('Knit', 0.01292819996435476)\n",
      "('Thumper', 0.01283082850331706)\n",
      "('TSN103', 0.01207259059910425)\n",
      "('Mus', 0.011504222929586208)\n",
      "('Notch', 0.011210138831032775)\n",
      "('Zipfel', 0.011039191074489522)\n",
      "('MN60', 0.009863497620383573)\n",
      "('CCL', 0.009629062101452243)\n",
      "('TR88', 0.008876749646853338)\n",
      "('TR120', 0.008825895777543388)\n",
      "('Wave', 0.008326245785010972)\n"
     ]
    }
   ],
   "source": [
    "import csv, networkx as nx, operator\n",
    "\n",
    "graph = nx.Graph()\n",
    "reader = csv.reader(open('dolphins.csv', 'r'), delimiter = ',')\n",
    "data = [row for row in reader]\n",
    "\n",
    "nodes = set([row[0] for row in data])\n",
    "edges = [(row[0], row[2]) for row in data]\n",
    "\n",
    "num_nodes = len(nodes)\n",
    "initial_rank = 1/float(num_nodes)\n",
    "graph.add_nodes_from(nodes, rank = initial_rank)\n",
    "graph.add_edges_from(edges)\n",
    "\n",
    "\n",
    "# assign initial values\n",
    "V = float(len(graph))\n",
    "s = 0.85\n",
    "ranks = dict()\n",
    "\n",
    "for key, node in graph.nodes(data = True):\n",
    "    ranks[key] = node.get('rank')\n",
    "    \n",
    "\n",
    "# calculate PageRanks\n",
    "for _ in range(50):\n",
    "    \n",
    "    for key, node in graph.nodes(data = True):\n",
    "        rank_sum = 0.0\n",
    "        neighbors = graph[key]\n",
    "        \n",
    "        for n in neighbors:\n",
    "            \n",
    "            if ranks[n] is not None:\n",
    "                outlinks = len(list(graph.neighbors(n)))\n",
    "                rank_sum += (1/float(outlinks)) * ranks[n]\n",
    "                \n",
    "        ranks[key] = ((1-s)*(1/V)) + s*rank_sum\n",
    "        \n",
    "sorted_ranks = sorted(ranks.items(), key = operator.itemgetter(1), reverse = True)\n",
    "\n",
    "\n",
    "for i in range(50):\n",
    "    print(sorted_ranks[i])"
   ]
  },
  {
   "cell_type": "code",
   "execution_count": 5,
   "metadata": {},
   "outputs": [
    {
     "name": "stdout",
     "output_type": "stream",
     "text": [
      "{'TR82': [0.016129032258064516, ['Web']], 'Haecksel': [0.016129032258064516, ['Beak', 'Jonah', 'MN83', 'SN9', 'Topless', 'Vau', 'Zap']], 'Gallatin': [0.016129032258064516, ['DN16', 'DN21', 'Feather', 'Jet', 'Ripplefluke', 'SN90', 'Upbang', 'Web']], 'MN105': [0.016129032258064516, ['Jonah', 'Patchback', 'Scabs', 'SN4', 'Topless', 'Trigger']], 'Web': [0.016129032258064516, ['DN16', 'DN21', 'Feather', 'Gallatin', 'Jet', 'SN89', 'SN90', 'TR82', 'Upbang']], 'Hook': [0.016129032258064516, ['Grin', 'Kringel', 'Scabs', 'SN4', 'SN63', 'TR99']], 'Bumper': [0.016129032258064516, ['Fish', 'SN96', 'Thumper', 'Zipfel']], 'Jet': [0.016129032258064516, ['Beescratch', 'DN21', 'Feather', 'Gallatin', 'MN23', 'Mus', 'Number1', 'Quasi', 'Web']], 'DN63': [0.016129032258064516, ['Knit', 'Number1', 'PL', 'SN9', 'Upbang']], 'Zig': [0.016129032258064516, ['Ripplefluke']], 'Fish': [0.016129032258064516, ['Beak', 'Bumper', 'Patchback', 'SN96', 'TR77']], 'SN9': [0.016129032258064516, ['Beak', 'DN63', 'Grin', 'Haecksel', 'Scabs', 'SN100', 'SN4', 'TSN103']], 'DN16': [0.016129032258064516, ['Feather', 'Gallatin', 'Wave', 'Web']], 'Cross': [0.016129032258064516, ['Trigger']], 'SN90': [0.016129032258064516, ['Beescratch', 'Feather', 'Gallatin', 'Upbang', 'Web']], 'SN63': [0.016129032258064516, ['Grin', 'Hook', 'Kringel', 'Scabs', 'Stripes', 'Thumper', 'TSN103', 'Whitetip']], 'Oscar': [0.016129032258064516, ['Beescratch', 'Double', 'Kringel', 'PL', 'TR77']], 'MN23': [0.016129032258064516, ['Jet']], 'Vau': [0.016129032258064516, ['Haecksel', 'Trigger']], 'Ripplefluke': [0.016129032258064516, ['Feather', 'Gallatin', 'Zig']], 'TSN83': [0.016129032258064516, ['Stripes', 'Zipfel']], 'Shmuddel': [0.016129032258064516, ['Grin', 'Scabs', 'SN4', 'Thumper', 'TR88']], 'PL': [0.016129032258064516, ['DN63', 'Knit', 'Oscar', 'SN96', 'TR77']], 'Topless': [0.016129032258064516, ['Double', 'Haecksel', 'Jonah', 'MN105', 'MN60', 'MN83', 'Patchback', 'SN4', 'TR99', 'Trigger', 'Zap']], 'Kringel': [0.016129032258064516, ['Double', 'Hook', 'Jonah', 'Oscar', 'SN100', 'SN63', 'Thumper', 'TR77', 'TR99']], 'SMN5': [0.016129032258064516, ['Patchback']], 'TR120': [0.016129032258064516, ['Stripes', 'TR88']], 'Knit': [0.016129032258064516, ['Beescratch', 'DN63', 'PL', 'Upbang']], 'Five': [0.016129032258064516, ['Trigger']], 'Feather': [0.016129032258064516, ['DN16', 'DN21', 'Gallatin', 'Jet', 'Ripplefluke', 'SN90', 'Web']], 'MN60': [0.016129032258064516, ['SN100', 'Topless', 'Trigger']], 'Notch': [0.016129032258064516, ['Beescratch', 'Mus', 'Number1']], 'DN21': [0.016129032258064516, ['Feather', 'Gallatin', 'Jet', 'Upbang', 'Wave', 'Web']], 'Whitetip': [0.016129032258064516, ['SN63']], 'MN83': [0.016129032258064516, ['Grin', 'Haecksel', 'Jonah', 'Patchback', 'Topless', 'Trigger']], 'Double': [0.016129032258064516, ['CCL', 'Kringel', 'Oscar', 'SN4', 'Topless', 'Zap']], 'Grin': [0.016129032258064516, ['Beak', 'CCL', 'Hook', 'MN83', 'Scabs', 'Shmuddel', 'SN4', 'SN63', 'SN9', 'Stripes', 'TR99', 'TSN103']], 'Wave': [0.016129032258064516, ['DN16', 'DN21']], 'Zipfel': [0.016129032258064516, ['Bumper', 'SN4', 'TSN83']], 'SN4': [0.016129032258064516, ['Double', 'Grin', 'Hook', 'MN105', 'Scabs', 'Shmuddel', 'SN100', 'SN9', 'Stripes', 'Topless', 'Zipfel']], 'CCL': [0.016129032258064516, ['Double', 'Grin', 'Zap']], 'SN100': [0.016129032258064516, ['Beescratch', 'Kringel', 'MN60', 'SN4', 'SN89', 'SN9', 'Zap']], 'TR77': [0.016129032258064516, ['Beak', 'Fish', 'Kringel', 'Oscar', 'PL', 'SN96']], 'Patchback': [0.016129032258064516, ['Fish', 'Jonah', 'MN105', 'MN83', 'SMN5', 'Stripes', 'Topless', 'Trigger', 'TSN103']], 'SN96': [0.016129032258064516, ['Beak', 'Bumper', 'Fish', 'PL', 'TR77', 'TR99']], 'Upbang': [0.016129032258064516, ['Beescratch', 'DN21', 'DN63', 'Gallatin', 'Knit', 'SN90', 'Web']], 'Zap': [0.016129032258064516, ['CCL', 'Double', 'Haecksel', 'SN100', 'Topless']], 'Trigger': [0.016129032258064516, ['Cross', 'Five', 'Jonah', 'MN105', 'MN60', 'MN83', 'Patchback', 'Topless', 'TR99', 'Vau']], 'Scabs': [0.016129032258064516, ['Fork', 'Grin', 'Hook', 'MN105', 'Shmuddel', 'SN4', 'SN63', 'SN9', 'Stripes', 'TR99']], 'Number1': [0.016129032258064516, ['Beescratch', 'DN63', 'Jet', 'Mus', 'Notch']], 'Jonah': [0.016129032258064516, ['Haecksel', 'Kringel', 'MN105', 'MN83', 'Patchback', 'Topless', 'Trigger']], 'TR99': [0.016129032258064516, ['Grin', 'Hook', 'Kringel', 'Scabs', 'SN96', 'Topless', 'Trigger']], 'TSN103': [0.016129032258064516, ['Grin', 'Patchback', 'SN63', 'SN9']], 'TR88': [0.016129032258064516, ['Shmuddel', 'TR120']], 'Fork': [0.016129032258064516, ['Scabs']], 'Thumper': [0.016129032258064516, ['Bumper', 'Kringel', 'Shmuddel', 'SN63']], 'Stripes': [0.016129032258064516, ['Grin', 'Patchback', 'Scabs', 'SN4', 'SN63', 'TR120', 'TSN83']], 'Beescratch': [0.016129032258064516, ['Jet', 'Knit', 'Notch', 'Number1', 'Oscar', 'SN100', 'SN90', 'Upbang']], 'Beak': [0.016129032258064516, ['Fish', 'Grin', 'Haecksel', 'SN9', 'SN96', 'TR77']], 'SN89': [0.016129032258064516, ['SN100', 'Web']], 'Quasi': [0.016129032258064516, ['Jet']], 'Mus': [0.016129032258064516, ['Jet', 'Notch', 'Number1']]}\n"
     ]
    }
   ],
   "source": [
    "print(pages_dolphins)"
   ]
  },
  {
   "cell_type": "code",
   "execution_count": null,
   "metadata": {},
   "outputs": [],
   "source": [
    "def mapper(page_id, value):\n",
    "    outputs = [(page_id, value)]\n",
    "    \n",
    "    for neighbor in neighbors:\n",
    "        outputs.append((neighbor, out_pagerank))\n",
    "        \n",
    "    return outputs\n",
    "\n",
    "\n",
    "def reducer(page_id, values):\n",
    "    \n",
    "    for value in values:\n",
    "        \n",
    "        if type(value) == list:\n",
    "            output = value\n",
    "            \n",
    "        else:\n",
    "            \n",
    "            \n",
    "    return (page_id, outpupt)\n",
    "\n",
    "\n",
    "def map_reduce(i, mapper, reducer):\n",
    "    intermediate = []\n",
    "    \n",
    "    for (key, value) in i.items():\n",
    "        intermediate.extend(mapper(key, value))\n",
    "        \n",
    "    groups = {}\n",
    "    \n",
    "    for (key, value) in intermediate:\n",
    "        \n",
    "        if key not in groups:\n",
    "            groups[key] = []\n",
    "            \n",
    "        groups[key].append(value)\n",
    "        \n",
    "    output = {}\n",
    "    \n",
    "    for (key, values) in groups.items():\n",
    "        (new_key, new_value) = reducer(key, values)\n",
    "        output[new_key] = new_value\n",
    "        \n",
    "        \n",
    "    return output\n",
    "\n",
    "\n",
    "result = {}\n",
    "\n",
    "for i in range(30):\n",
    "    result = map_reduce(pages, mapper, reducer)\n",
    "    \n",
    "\n",
    "ranks = {}\n",
    "\n",
    "for key, value in result.items():\n",
    "    ranks[key] = value[0]\n",
    "    \n",
    "    \n",
    "sorted_ranks = sorted(ranks.items(), key = operator.itemgetter(1), reverse = True)\n",
    "\n",
    "for i in range(min(10, len(ranks))):\n",
    "    print(sorted_ranks[i])"
   ]
  },
  {
   "cell_type": "code",
   "execution_count": null,
   "metadata": {},
   "outputs": [],
   "source": []
  },
  {
   "cell_type": "code",
   "execution_count": null,
   "metadata": {},
   "outputs": [],
   "source": []
  },
  {
   "cell_type": "code",
   "execution_count": null,
   "metadata": {},
   "outputs": [],
   "source": []
  },
  {
   "cell_type": "code",
   "execution_count": null,
   "metadata": {},
   "outputs": [],
   "source": []
  },
  {
   "cell_type": "code",
   "execution_count": null,
   "metadata": {},
   "outputs": [],
   "source": []
  },
  {
   "cell_type": "code",
   "execution_count": null,
   "metadata": {},
   "outputs": [],
   "source": []
  },
  {
   "cell_type": "code",
   "execution_count": null,
   "metadata": {},
   "outputs": [],
   "source": []
  },
  {
   "cell_type": "code",
   "execution_count": null,
   "metadata": {},
   "outputs": [],
   "source": []
  },
  {
   "cell_type": "code",
   "execution_count": null,
   "metadata": {},
   "outputs": [],
   "source": []
  },
  {
   "cell_type": "code",
   "execution_count": null,
   "metadata": {},
   "outputs": [],
   "source": []
  },
  {
   "cell_type": "code",
   "execution_count": null,
   "metadata": {},
   "outputs": [],
   "source": []
  },
  {
   "cell_type": "code",
   "execution_count": null,
   "metadata": {},
   "outputs": [],
   "source": []
  },
  {
   "cell_type": "code",
   "execution_count": null,
   "metadata": {},
   "outputs": [],
   "source": []
  },
  {
   "cell_type": "code",
   "execution_count": null,
   "metadata": {},
   "outputs": [],
   "source": []
  },
  {
   "cell_type": "code",
   "execution_count": null,
   "metadata": {},
   "outputs": [],
   "source": []
  },
  {
   "cell_type": "code",
   "execution_count": null,
   "metadata": {},
   "outputs": [],
   "source": []
  },
  {
   "cell_type": "code",
   "execution_count": null,
   "metadata": {},
   "outputs": [],
   "source": []
  },
  {
   "cell_type": "code",
   "execution_count": null,
   "metadata": {},
   "outputs": [],
   "source": []
  },
  {
   "cell_type": "code",
   "execution_count": null,
   "metadata": {},
   "outputs": [],
   "source": []
  },
  {
   "cell_type": "code",
   "execution_count": null,
   "metadata": {},
   "outputs": [],
   "source": []
  },
  {
   "cell_type": "code",
   "execution_count": null,
   "metadata": {},
   "outputs": [],
   "source": []
  },
  {
   "cell_type": "code",
   "execution_count": null,
   "metadata": {},
   "outputs": [],
   "source": []
  },
  {
   "cell_type": "code",
   "execution_count": null,
   "metadata": {},
   "outputs": [],
   "source": []
  },
  {
   "cell_type": "code",
   "execution_count": null,
   "metadata": {},
   "outputs": [],
   "source": []
  },
  {
   "cell_type": "code",
   "execution_count": null,
   "metadata": {},
   "outputs": [],
   "source": []
  },
  {
   "cell_type": "code",
   "execution_count": null,
   "metadata": {},
   "outputs": [],
   "source": []
  }
 ],
 "metadata": {
  "kernelspec": {
   "display_name": "Python 3",
   "language": "python",
   "name": "python3"
  },
  "language_info": {
   "codemirror_mode": {
    "name": "ipython",
    "version": 3
   },
   "file_extension": ".py",
   "mimetype": "text/x-python",
   "name": "python",
   "nbconvert_exporter": "python",
   "pygments_lexer": "ipython3",
   "version": "3.8.1"
  }
 },
 "nbformat": 4,
 "nbformat_minor": 4
}
